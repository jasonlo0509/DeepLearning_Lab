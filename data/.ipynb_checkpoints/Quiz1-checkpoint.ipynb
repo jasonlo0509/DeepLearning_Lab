{
 "cells": [
  {
   "cell_type": "code",
   "execution_count": 1,
   "metadata": {
    "collapsed": true
   },
   "outputs": [],
   "source": [
    "%reset -sf"
   ]
  },
  {
   "cell_type": "code",
   "execution_count": 2,
   "metadata": {
    "collapsed": false
   },
   "outputs": [
    {
     "name": "stderr",
     "output_type": "stream",
     "text": [
      "/home/tim/anaconda3/lib/python3.5/site-packages/sklearn/cross_validation.py:41: DeprecationWarning: This module was deprecated in version 0.18 in favor of the model_selection module into which all the refactored classes and functions are moved. Also note that the interface of the new CV iterators are different from that of this module. This module will be removed in 0.20.\n",
      "  \"This module will be removed in 0.20.\", DeprecationWarning)\n",
      "/home/tim/anaconda3/lib/python3.5/site-packages/sklearn/grid_search.py:42: DeprecationWarning: This module was deprecated in version 0.18 in favor of the model_selection module into which all the refactored classes and functions are moved. This module will be removed in 0.20.\n",
      "  DeprecationWarning)\n",
      "/home/tim/anaconda3/lib/python3.5/site-packages/sklearn/learning_curve.py:22: DeprecationWarning: This module was deprecated in version 0.18 in favor of the model_selection module into which all the functions are moved. This module will be removed in 0.20\n",
      "  DeprecationWarning)\n"
     ]
    }
   ],
   "source": [
    "import pandas as pd\n",
    "import numpy as np\n",
    "from sklearn import *"
   ]
  },
  {
   "cell_type": "code",
   "execution_count": 3,
   "metadata": {
    "collapsed": true
   },
   "outputs": [],
   "source": [
    "trainX = pd.read_csv('trainX.csv')\n",
    "trainY = pd.read_csv('trainY.csv')\n",
    "\n",
    "testX = pd.read_csv('testX.csv')\n",
    "testY = pd.read_csv('testY.csv')"
   ]
  },
  {
   "cell_type": "code",
   "execution_count": 4,
   "metadata": {
    "collapsed": true
   },
   "outputs": [],
   "source": [
    "def pd2np(df):\n",
    "    return df.as_matrix()[:, 1:]"
   ]
  },
  {
   "cell_type": "code",
   "execution_count": 5,
   "metadata": {
    "collapsed": true
   },
   "outputs": [],
   "source": [
    "trainX = pd2np(trainX)\n",
    "trainY = pd2np(trainY)\n",
    "\n",
    "testX = pd2np(testX)\n",
    "testY = pd2np(testY)"
   ]
  },
  {
   "cell_type": "code",
   "execution_count": 6,
   "metadata": {
    "collapsed": true
   },
   "outputs": [],
   "source": [
    "def getACC(ty, py):\n",
    "    py = py>0.5\n",
    "    return np.average(ty==py)   "
   ]
  },
  {
   "cell_type": "code",
   "execution_count": 7,
   "metadata": {
    "collapsed": false
   },
   "outputs": [
    {
     "name": "stdout",
     "output_type": "stream",
     "text": [
      "Training: 0.607550\n",
      "LinearRegression: 0.611603\n"
     ]
    }
   ],
   "source": [
    "# LinearRegression\n",
    "model = linear_model.LinearRegression()\n",
    "model.fit(trainX, trainY)\n",
    "predY = model.predict(testX)\n",
    "\n",
    "print('Training: %f' % (getACC(trainY, model.predict(trainX))))\n",
    "print('LinearRegression: %f' % (getACC(testY, predY)))"
   ]
  },
  {
   "cell_type": "code",
   "execution_count": 8,
   "metadata": {
    "collapsed": false
   },
   "outputs": [
    {
     "name": "stdout",
     "output_type": "stream",
     "text": [
      "Training: 0.543732\n",
      "LassoRegression: 0.547252\n"
     ]
    }
   ],
   "source": [
    "# LassoRegression\n",
    "model = linear_model.Lasso()\n",
    "model.fit(trainX, trainY)\n",
    "predY = model.predict(testX)\n",
    "\n",
    "print('Training: %f' % (getACC(trainY, model.predict(trainX))))\n",
    "print('LassoRegression: %f' % (getACC(testY, predY)))"
   ]
  },
  {
   "cell_type": "code",
   "execution_count": 9,
   "metadata": {
    "collapsed": false
   },
   "outputs": [
    {
     "name": "stdout",
     "output_type": "stream",
     "text": [
      "Training: 0.607550\n",
      "RidgeRegression: 0.611603\n"
     ]
    }
   ],
   "source": [
    "# RidgeRegression\n",
    "model = linear_model.Ridge()\n",
    "model.fit(trainX, trainY)\n",
    "predY = model.predict(testX)\n",
    "\n",
    "print('Training: %f' % (getACC(trainY, model.predict(trainX))))\n",
    "print('RidgeRegression: %f' % (getACC(testY, predY)))"
   ]
  },
  {
   "cell_type": "code",
   "execution_count": 10,
   "metadata": {
    "collapsed": true
   },
   "outputs": [],
   "source": [
    "# PCA\n",
    "pca = decomposition.PCA(n_components=4)\n",
    "pca.fit(trainX)\n",
    "\n",
    "trainX = pca.transform(trainX)\n",
    "testX = pca.transform(testX)"
   ]
  },
  {
   "cell_type": "code",
   "execution_count": 11,
   "metadata": {
    "collapsed": false
   },
   "outputs": [
    {
     "name": "stdout",
     "output_type": "stream",
     "text": [
      "Training: 0.601137\n",
      "LinearRegression: 0.605420\n"
     ]
    }
   ],
   "source": [
    "# LinearRegression\n",
    "model = linear_model.LinearRegression()\n",
    "model.fit(trainX, trainY)\n",
    "predY = model.predict(testX)\n",
    "\n",
    "print('Training: %f' % (getACC(trainY, model.predict(trainX))))\n",
    "print('LinearRegression: %f' % (getACC(testY, predY)))"
   ]
  },
  {
   "cell_type": "code",
   "execution_count": 12,
   "metadata": {
    "collapsed": false
   },
   "outputs": [
    {
     "name": "stdout",
     "output_type": "stream",
     "text": [
      "Training: 0.543732\n",
      "LassoRegression: 0.547252\n"
     ]
    }
   ],
   "source": [
    "# LassoRegression\n",
    "model = linear_model.Lasso()\n",
    "model.fit(trainX, trainY)\n",
    "predY = model.predict(testX)\n",
    "\n",
    "print('Training: %f' % (getACC(trainY, model.predict(trainX))))\n",
    "print('LassoRegression: %f' % (getACC(testY, predY)))"
   ]
  },
  {
   "cell_type": "code",
   "execution_count": 13,
   "metadata": {
    "collapsed": false
   },
   "outputs": [
    {
     "name": "stdout",
     "output_type": "stream",
     "text": [
      "Training: 0.601137\n",
      "RidgeRegression: 0.605420\n"
     ]
    }
   ],
   "source": [
    "# RidgeRegression\n",
    "model = linear_model.Ridge()\n",
    "model.fit(trainX, trainY)\n",
    "predY = model.predict(testX)\n",
    "\n",
    "print('Training: %f' % (getACC(trainY, model.predict(trainX))))\n",
    "print('RidgeRegression: %f' % (getACC(testY, predY)))"
   ]
  }
 ],
 "metadata": {
  "anaconda-cloud": {},
  "kernelspec": {
   "display_name": "Python [conda root]",
   "language": "python",
   "name": "conda-root-py"
  },
  "language_info": {
   "codemirror_mode": {
    "name": "ipython",
    "version": 3
   },
   "file_extension": ".py",
   "mimetype": "text/x-python",
   "name": "python",
   "nbconvert_exporter": "python",
   "pygments_lexer": "ipython3",
   "version": "3.5.2"
  }
 },
 "nbformat": 4,
 "nbformat_minor": 2
}
