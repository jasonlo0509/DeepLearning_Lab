{
 "cells": [
  {
   "cell_type": "code",
   "execution_count": 1,
   "metadata": {
    "collapsed": true
   },
   "outputs": [],
   "source": [
    "import pandas as pd\n",
    "from pylab import *"
   ]
  },
  {
   "cell_type": "code",
   "execution_count": 2,
   "metadata": {
    "collapsed": true
   },
   "outputs": [],
   "source": [
    "#import data\n",
    "X_train = pd.read_csv('./data/nba/X_train.csv')\n",
    "y_train = pd.read_csv('./data/nba/y_train.csv')\n",
    "X_test = pd.read_csv('./data/nba/X_test.csv')"
   ]
  },
  {
   "cell_type": "code",
   "execution_count": 3,
   "metadata": {},
   "outputs": [
    {
     "name": "stdout",
     "output_type": "stream",
     "text": [
      "(52399, 8)\n",
      "Index(['PERIOD', 'GAME_CLOCK', 'SHOT_CLOCK', 'DRIBBLES', 'TOUCH_TIME',\n",
      "       'SHOT_DIST', 'PTS_TYPE', 'CLOSE_DEF_DIST'],\n",
      "      dtype='object')\n",
      "Index(['FGM'], dtype='object')\n",
      "   PERIOD  GAME_CLOCK  SHOT_CLOCK  DRIBBLES  TOUCH_TIME  SHOT_DIST  PTS_TYPE  \\\n",
      "0       2         557        15.5         0         0.7        2.1         2   \n",
      "1       2         151        20.1         0         0.8        2.7         2   \n",
      "2       3         448        14.2         0         0.8        5.1         2   \n",
      "3       1         279        10.6         0         0.6        1.9         2   \n",
      "\n",
      "   CLOSE_DEF_DIST  \n",
      "0             0.0  \n",
      "1             3.4  \n",
      "2             0.1  \n",
      "3             2.7  \n",
      "   FGM\n",
      "0    1\n",
      "1    1\n",
      "2    0\n",
      "3    1\n"
     ]
    }
   ],
   "source": [
    "print(X_train.shape)\n",
    "print(X_train.columns)\n",
    "print(y_train.columns)\n",
    "print(X_train[:4])\n",
    "print(y_train[:4])"
   ]
  },
  {
   "cell_type": "code",
   "execution_count": 4,
   "metadata": {
    "collapsed": true
   },
   "outputs": [],
   "source": [
    "def pd2np(df):\n",
    "  return df.as_matrix()"
   ]
  },
  {
   "cell_type": "code",
   "execution_count": 5,
   "metadata": {
    "collapsed": true
   },
   "outputs": [],
   "source": [
    "def mse(model, X, y):\n",
    "  return ((model.predict(X) - y)**2).mean()"
   ]
  },
  {
   "cell_type": "code",
   "execution_count": 6,
   "metadata": {
    "collapsed": true
   },
   "outputs": [],
   "source": [
    "X = pd2np(X_train)\n",
    "y = pd2np(y_train)\n",
    "X_test = pd2np(X_test)"
   ]
  },
  {
   "cell_type": "code",
   "execution_count": 7,
   "metadata": {},
   "outputs": [
    {
     "name": "stdout",
     "output_type": "stream",
     "text": [
      "<class 'numpy.ndarray'>\n",
      "(52399, 8)\n"
     ]
    }
   ],
   "source": [
    "print(type(X))\n",
    "print(X.shape)"
   ]
  },
  {
   "cell_type": "code",
   "execution_count": null,
   "metadata": {
    "collapsed": true
   },
   "outputs": [],
   "source": [
    "from sklearn.preprocessing import StandardScaler\n",
    "from sklearn.linear_model import Ridge\n",
    "from sklearn.preprocessing import PolynomialFeatures\n",
    "from sklearn.metrics import mean_squared_error\n",
    "from sklearn.metrics import accuracy_score\n",
    "from sklearn.learning_curve import learning_curve\n",
    "from sklearn.ensemble import RandomForestClassifier\n",
    "from sklearn.model_selection import train_test_split"
   ]
  },
  {
   "cell_type": "markdown",
   "metadata": {},
   "source": [
    "這邊先試了RandomForestClassifier"
   ]
  },
  {
   "cell_type": "code",
   "execution_count": 9,
   "metadata": {},
   "outputs": [
    {
     "name": "stdout",
     "output_type": "stream",
     "text": [
      "MSE train: 0.00, test: 0.40\n",
      "Accuracy (forest train): 1.000\n",
      "Accuracy (forest validation): 0.601\n"
     ]
    }
   ],
   "source": [
    "# criterion : impurity function\n",
    "# n_estimators :  number of decision trees\n",
    "# random_state : seed used by the random number generator\n",
    "# n_jobs : number of cores for parallelism\n",
    "forest = RandomForestClassifier(criterion='entropy',\n",
    "                                n_estimators=500, \n",
    "                                random_state=1,\n",
    "                                n_jobs=-1)\n",
    "\n",
    "X_train, X_valid, y_train, y_valid = train_test_split(\n",
    "      X, y.ravel(), test_size=0.3, random_state=0)\n",
    "\n",
    "forest.fit(X_train, y_train)\n",
    "\n",
    "y_train_pred = forest.predict(X_train)\n",
    "y_valid_pred = forest.predict(X_valid)\n",
    "\n",
    "print('MSE train: %.2f, test: %.2f' %\n",
    "      (mean_squared_error(y_train, y_train_pred),\n",
    "       mean_squared_error(y_valid, y_valid_pred)))\n",
    "\n",
    "print('Accuracy (forest train): %.3f' % accuracy_score(y_train, y_train_pred))\n",
    "print('Accuracy (forest validation): %.3f' % accuracy_score(y_valid, y_valid_pred))"
   ]
  },
  {
   "cell_type": "markdown",
   "metadata": {},
   "source": [
    "接者試了Ridge Regression中，不同的degree和alpha的組合"
   ]
  },
  {
   "cell_type": "code",
   "execution_count": 10,
   "metadata": {},
   "outputs": [
    {
     "name": "stdout",
     "output_type": "stream",
     "text": [
      "\n",
      "[Degree = 1 Alpha = 0]\n",
      "MSE train: 0.3950, valid: 0.3873\n",
      "Accuracy (X_train): 0.605\n",
      "Accuracy (X_valid): 0.613\n",
      "\n",
      "[Degree = 1 Alpha = 1]\n",
      "MSE train: 0.3950, valid: 0.3873\n",
      "Accuracy (X_train): 0.605\n",
      "Accuracy (X_valid): 0.613\n",
      "\n",
      "[Degree = 1 Alpha = 10]\n",
      "MSE train: 0.3950, valid: 0.3873\n",
      "Accuracy (X_train): 0.605\n",
      "Accuracy (X_valid): 0.613\n",
      "\n",
      "[Degree = 1 Alpha = 100]\n",
      "MSE train: 0.3948, valid: 0.3873\n",
      "Accuracy (X_train): 0.605\n",
      "Accuracy (X_valid): 0.613\n",
      "\n",
      "[Degree = 1 Alpha = 1000]\n",
      "MSE train: 0.3939, valid: 0.3875\n",
      "Accuracy (X_train): 0.606\n",
      "Accuracy (X_valid): 0.613\n",
      "\n",
      "[Degree = 2 Alpha = 0]\n",
      "MSE train: 0.3834, valid: 0.4498\n",
      "Accuracy (X_train): 0.617\n",
      "Accuracy (X_valid): 0.619\n",
      "\n",
      "[Degree = 2 Alpha = 1]\n",
      "MSE train: 0.3835, valid: 0.4496\n",
      "Accuracy (X_train): 0.616\n",
      "Accuracy (X_valid): 0.620\n",
      "\n",
      "[Degree = 2 Alpha = 10]\n",
      "MSE train: 0.3837, valid: 0.4496\n",
      "Accuracy (X_train): 0.616\n",
      "Accuracy (X_valid): 0.620\n",
      "\n",
      "[Degree = 2 Alpha = 100]\n",
      "MSE train: 0.3837, valid: 0.4378\n",
      "Accuracy (X_train): 0.616\n",
      "Accuracy (X_valid): 0.619\n",
      "\n",
      "[Degree = 2 Alpha = 1000]\n",
      "MSE train: 0.3848, valid: 0.3955\n",
      "Accuracy (X_train): 0.615\n",
      "Accuracy (X_valid): 0.619\n",
      "\n",
      "[Degree = 3 Alpha = 0]\n",
      "MSE train: 0.3814, valid: 0.3922\n",
      "Accuracy (X_train): 0.619\n",
      "Accuracy (X_valid): 0.622\n",
      "\n",
      "[Degree = 3 Alpha = 1]\n",
      "MSE train: 0.3806, valid: 0.3842\n",
      "Accuracy (X_train): 0.619\n",
      "Accuracy (X_valid): 0.620\n",
      "\n",
      "[Degree = 3 Alpha = 10]\n",
      "MSE train: 0.3807, valid: 0.3804\n",
      "Accuracy (X_train): 0.619\n",
      "Accuracy (X_valid): 0.620\n",
      "\n",
      "[Degree = 3 Alpha = 100]\n",
      "MSE train: 0.3806, valid: 0.6319\n",
      "Accuracy (X_train): 0.619\n",
      "Accuracy (X_valid): 0.621\n",
      "\n",
      "[Degree = 3 Alpha = 1000]\n",
      "MSE train: 0.3806, valid: 1.0286\n",
      "Accuracy (X_train): 0.619\n",
      "Accuracy (X_valid): 0.620\n",
      "\n",
      "[Degree = 4 Alpha = 0]\n",
      "MSE train: 0.3769, valid: 17132.7580\n",
      "Accuracy (X_train): 0.623\n",
      "Accuracy (X_valid): 0.618\n",
      "\n",
      "[Degree = 4 Alpha = 1]\n",
      "MSE train: 0.3768, valid: 16493.6686\n",
      "Accuracy (X_train): 0.623\n",
      "Accuracy (X_valid): 0.616\n",
      "\n",
      "[Degree = 4 Alpha = 10]\n",
      "MSE train: 0.3767, valid: 18841.6136\n",
      "Accuracy (X_train): 0.623\n",
      "Accuracy (X_valid): 0.616\n",
      "\n",
      "[Degree = 4 Alpha = 100]\n",
      "MSE train: 0.3762, valid: 25146.3074\n",
      "Accuracy (X_train): 0.624\n",
      "Accuracy (X_valid): 0.617\n",
      "\n",
      "[Degree = 4 Alpha = 1000]\n",
      "MSE train: 0.3774, valid: 12236.3338\n",
      "Accuracy (X_train): 0.623\n",
      "Accuracy (X_valid): 0.618\n"
     ]
    }
   ],
   "source": [
    "sc = StandardScaler()\n",
    "X_std = sc.fit_transform(X)\n",
    "\n",
    "for d in range(1, 5):\n",
    "  poly = PolynomialFeatures(degree=d)\n",
    "  X_poly = poly.fit_transform(X_std)\n",
    "\n",
    "  X_train, X_valid, y_train, y_valid = train_test_split(\n",
    "      X_poly, y, test_size=0.3, random_state=0)\n",
    "  for a in [0, 1, 10, 100, 1000]:\n",
    "    rg = Ridge(alpha=a)\n",
    "    rg.fit(X_train, y_train)\n",
    "\n",
    "    y_train_pred = rg.predict(X_train)\n",
    "    y_valid_pred = rg.predict(X_valid)\n",
    " \n",
    "    print('\\n[Degree = %d Alpha = %d]' % (d, a))\n",
    "    print('MSE train: %.4f, valid: %.4f' %\n",
    "          (mean_squared_error(y_train, y_train_pred.round()),\n",
    "           mean_squared_error(y_valid, y_valid_pred.round())))\n",
    "    print('Accuracy (X_train): %.3f' % accuracy_score(y_train, y_train_pred.round()))\n",
    "    print('Accuracy (X_valid): %.3f' % accuracy_score(y_valid, y_valid_pred.round()))"
   ]
  },
  {
   "cell_type": "markdown",
   "metadata": {},
   "source": [
    "從上面的結果，從accuracy高和validation mse偏低的組合中，挑選degree=3和alpha=10這組參數，畫出它的learning curve"
   ]
  },
  {
   "cell_type": "code",
   "execution_count": 11,
   "metadata": {},
   "outputs": [
    {
     "data": {
      "image/png": "[encoded data removed]",
      "text/plain": [
       "<matplotlib.figure.Figure at 0x15a971e2748>"
      ]
     },
     "metadata": {},
     "output_type": "display_data"
    }
   ],
   "source": [
    "  poly = PolynomialFeatures(degree=3)\n",
    "  X_poly = poly.fit_transform(X_std)\n",
    "\n",
    "  X_train, X_valid, y_train, y_valid = train_test_split(\n",
    "      X_poly, y, test_size=0.3, random_state=0)\n",
    "\n",
    "  rg = Ridge(alpha=10)\n",
    "  rg.fit(X_train, y_train)\n",
    "\n",
    "  y_train_pred = rg.predict(X_train)\n",
    "  y_valid_pred = rg.predict(X_valid)\n",
    "\n",
    "  train_sizes, train_scores, valid_scores = learning_curve(\n",
    "      estimator=rg, X=X, y=y, scoring=mse)\n",
    "\n",
    "  train_mean = np.mean(train_scores, axis=1)\n",
    "  train_std = np.std(train_scores, axis=1)\n",
    "  valid_mean = np.mean(valid_scores, axis=1)\n",
    "  valid_std = np.std(valid_scores, axis=1)\n",
    "\n",
    "  plt.plot(\n",
    "      train_sizes,\n",
    "      train_mean,\n",
    "      color='blue',\n",
    "      marker='o',\n",
    "      markersize=5,\n",
    "      label='Training error')\n",
    "  plt.fill_between(\n",
    "      train_sizes,\n",
    "      train_mean + train_std,\n",
    "      train_mean - train_std,\n",
    "      alpha=0.15,\n",
    "      color='blue')\n",
    "\n",
    "  plt.plot(\n",
    "      train_sizes,\n",
    "      valid_mean,\n",
    "      color='green',\n",
    "      linestyle='--',\n",
    "      marker='s',\n",
    "      markersize=5,\n",
    "      label='Validation error')\n",
    "  plt.fill_between(\n",
    "      train_sizes,\n",
    "      valid_mean + valid_std,\n",
    "      valid_mean - valid_std,\n",
    "      alpha=0.15,\n",
    "      color='green')\n",
    "\n",
    "  plt.hlines(y=0, xmin=0, xmax=36000, color='red', linewidth=2, linestyle='--')\n",
    "\n",
    "  plt.title('Degree = 3, Alpha = 10')\n",
    "  plt.grid()\n",
    "  plt.xlabel('Number of training samples')\n",
    "  plt.ylabel('MSE')\n",
    "  plt.legend(loc='upper right')\n",
    "  plt.ylim([0.2325, 0.2375])\n",
    "  plt.tight_layout()\n",
    "  plt.show()"
   ]
  },
  {
   "cell_type": "markdown",
   "metadata": {},
   "source": [
    "learning curve的結果，應該是沒有over-fit，否則validation error會很大(可參考前面degree=4的結果)。這是可預期的，畢竟Ridge Regression本身就有regularization的項，這又是經過篩選的參數，所以沒有overfitting也是正常的。"
   ]
  },
  {
   "cell_type": "markdown",
   "metadata": {},
   "source": [
    "接者我們選擇三個feature，這邊是採用PCA的方式，但找到的三個特徵不是真的原始資料的特徵，只是將資料投影過後的結果"
   ]
  },
  {
   "cell_type": "code",
   "execution_count": 12,
   "metadata": {
    "collapsed": true
   },
   "outputs": [],
   "source": [
    "# Z-normalize data\n",
    "Z = sc.fit_transform(X)\n",
    "Z_test = sc.fit_transform(X_test)\n",
    "# Estimate the correlation matrix\n",
    "R = np.dot(Z.T, Z) / X.shape[0]\n",
    "\n",
    "#calculate the eigen values, eigen vectors\n",
    "eigen_vals, eigen_vecs = np.linalg.eigh(R)\n",
    "\n",
    "# Make a list of (eigenvalue, eigenvector) tuples\n",
    "eigen_pairs = [(np.abs(eigen_vals[i]), eigen_vecs[:,i]) for i in range(len(eigen_vals))]\n",
    "\n",
    "# Sort the (eigenvalue, eigenvector) tuples from high to low\n",
    "eigen_pairs.sort(reverse=True)\n",
    "\n",
    "#form the projection matrix\n",
    "W_3D = np.hstack((eigen_pairs[0][1][:, np.newaxis],\n",
    "               eigen_pairs[1][1][:, np.newaxis],\n",
    "                 eigen_pairs[2][1][:,np.newaxis]))\n",
    "\n",
    "#cacculate z_pca(2d and 3d)\n",
    "X_pca3 = Z.dot(W_3D)\n",
    "X_test_pca3 = Z_test.dot(W_3D)"
   ]
  },
  {
   "cell_type": "code",
   "execution_count": 13,
   "metadata": {},
   "outputs": [
    {
     "name": "stdout",
     "output_type": "stream",
     "text": [
      "\n",
      "[Degree = 3 Alpha = 10]\n",
      "MSE train: 0.4059, valid: 1.7443\n",
      "Accuracy (X_train): 0.594\n",
      "Accuracy (X_valid): 0.593\n"
     ]
    }
   ],
   "source": [
    "  X_std = sc.fit_transform(X_pca3)\n",
    "  X_test_std = sc.fit_transform(X_test_pca3)\n",
    "\n",
    "  poly = PolynomialFeatures(degree=3)\n",
    "  X_poly = poly.fit_transform(X_std)\n",
    "  X_test_poly = poly.fit_transform(X_test_std)\n",
    "\n",
    "  X_train, X_valid, y_train, y_valid = train_test_split(\n",
    "      X_poly, y, test_size=0.3, random_state=0)\n",
    "\n",
    "  rg = Ridge(alpha=10)\n",
    "  rg.fit(X_train, y_train)\n",
    "\n",
    "  y_train_pred = rg.predict(X_train)\n",
    "  y_valid_pred = rg.predict(X_valid)\n",
    " \n",
    "  print('\\n[Degree = 3 Alpha = 10]')\n",
    "  print('MSE train: %.4f, valid: %.4f' %\n",
    "        (mean_squared_error(y_train, y_train_pred.round()),\n",
    "         mean_squared_error(y_valid, y_valid_pred.round())))\n",
    "  print('Accuracy (X_train): %.3f' % accuracy_score(y_train, y_train_pred.round()))\n",
    "  print('Accuracy (X_valid): %.3f' % accuracy_score(y_valid, y_valid_pred.round()))"
   ]
  },
  {
   "cell_type": "code",
   "execution_count": 14,
   "metadata": {
    "collapsed": true
   },
   "outputs": [],
   "source": [
    "y_test_pred = rg.predict(X_test_poly).round()\n",
    "df = pd.DataFrame(y_test_pred)\n",
    "df.columns =['FGM_PRED']\n",
    "df.to_csv(\"./data/nba/y_pred.csv\", index = False)"
   ]
  },
  {
   "cell_type": "markdown",
   "metadata": {},
   "source": [
    "用了RandomForestClassifier和Ridge Regression兩種，如果data未經處理直接套用兩個model，結果後者得到的accuracy比較高一點，再測試不同的degree和alpha值組合去挑更合適的model，得到degree=3 alpha=10時的validation set的accuracy比較高，且MSE是最小的。因為Ridge Regression本身就有regularization，將learning curve畫出來也就不會overfitting。最後我們用PCA挑出三個features來幫忙我們train model，最後用這個model去做預測，輸出成csv。"
   ]
  }
 ],
 "metadata": {
  "celltoolbar": "Raw Cell Format",
  "kernelspec": {
   "display_name": "Python 3",
   "language": "python",
   "name": "python3"
  },
  "language_info": {
   "codemirror_mode": {
    "name": "ipython",
    "version": 3
   },
   "file_extension": ".py",
   "mimetype": "text/x-python",
   "name": "python",
   "nbconvert_exporter": "python",
   "pygments_lexer": "ipython3",
   "version": "3.6.2"
  }
 },
 "nbformat": 4,
 "nbformat_minor": 2
}
