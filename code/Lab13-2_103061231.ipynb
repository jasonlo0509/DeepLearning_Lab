{
 "cells": [
  {
   "cell_type": "markdown",
   "metadata": {},
   "source": [
    "## Text preprocessing\n",
    "1. Read lines from file and remove non-alphanumeric tokens(except space and apostrophe to keep the format)\n",
    "2. Create vocabulary list from the lines\n",
    "3. Put BEG, END, PAD, UNK into voc-index mapping list.\n",
    "4. Create mapping lists between vocabularies and indices while dropping rare vacabularies.\n",
    "5. Encode lines to indices lists also add BEG and END.\n",
    "6. Drop the lines with UNK words.\n",
    "7. Form dialog sets from lines in proper length.\n",
    "8. Find max length which is most likely the threshold we set in 7th step"
   ]
  },
  {
   "cell_type": "markdown",
   "metadata": {},
   "source": [
    "## Batch preparation\n",
    "Create encoder's input, decoder's input and output based on dialog sets above.\n",
    "Perform padding by adding PAD."
   ]
  },
  {
   "cell_type": "markdown",
   "metadata": {},
   "source": [
    "## Model training\n",
    "Train the seq2seq model with 40 epochs and record the loss at each epoch. "
   ]
  },
  {
   "cell_type": "markdown",
   "metadata": {},
   "source": [
    "## Cherry pick\n",
    "Randomly pick inputs and predict their outputs.  We sort the results based on similarity(BLEU score) and print out top predictions. "
   ]
  },
  {
   "cell_type": "code",
   "execution_count": 1,
   "metadata": {
    "collapsed": true
   },
   "outputs": [],
   "source": [
    "import os\n",
    "\n",
    "os.environ[\"CUDA_VISIBLE_DEVICES\"] = '0'"
   ]
  },
  {
   "cell_type": "code",
   "execution_count": 2,
   "metadata": {
    "collapsed": true
   },
   "outputs": [],
   "source": [
    "import numpy as np\n",
    "\n",
    "lines = []\n",
    "file = open('./dataset/chatbot/conversations.txt', 'r')\n",
    "for line in file:\n",
    "     lines.append(line)\n",
    "        \n",
    "file.close()"
   ]
  },
  {
   "cell_type": "code",
   "execution_count": 3,
   "metadata": {},
   "outputs": [
    {
     "name": "stdout",
     "output_type": "stream",
     "text": [
      "[\"'\", ' ', 'a', 'b', 'c', 'd', 'e', 'f', 'g', 'h', 'i', 'j', 'k', 'l', 'm', 'n', 'o', 'p', 'q', 'r', 's', 't', 'u', 'v', 'w', 'x', 'y', 'z']\n"
     ]
    }
   ],
   "source": [
    "allowed_ch = []\n",
    "allowed_ch.append(chr(39)) #'\n",
    "allowed_ch.append(chr(32)) #space\n",
    "for i in range(97,97+26):\n",
    "    allowed_ch.append(chr(i))\n",
    "\n",
    "print(allowed_ch)"
   ]
  },
  {
   "cell_type": "code",
   "execution_count": 4,
   "metadata": {},
   "outputs": [
    {
     "name": "stdout",
     "output_type": "stream",
     "text": [
      "[' can we make this quick roxanne korrine and andrew barrett are having an incredibly horrendous public break up on the quad again', \" well i thought we'd start with pronunciation if that's okay with you\", ' not the hacking and gagging and spitting part please', \" okay then how 'bout we try out some french cuisine saturday night\", '', \" you're asking me out that's so cute what's your name again\", ' forget it', '', \" no no it's my fault  we didn't have a proper introduction \", ' cameron']\n"
     ]
    }
   ],
   "source": [
    "dat = []\n",
    "for line in lines:\n",
    "    new_l =''\n",
    "    for w in line.split():\n",
    "        s = ''.join([letter for letter in w if letter in allowed_ch])\n",
    "        new_l += ' ' + s\n",
    "    dat.append(new_l)\n",
    "\n",
    "print(dat[:10])"
   ]
  },
  {
   "cell_type": "code",
   "execution_count": 5,
   "metadata": {
    "collapsed": true
   },
   "outputs": [],
   "source": [
    "vocab = dict()\n",
    "\n",
    "def add_vocab(w):\n",
    "    if(len(w)) < 1:\n",
    "        return\n",
    "    if not w in vocab:\n",
    "        vocab[w] = 1\n",
    "    else:\n",
    "        vocab[w] += 1"
   ]
  },
  {
   "cell_type": "code",
   "execution_count": 6,
   "metadata": {
    "collapsed": true
   },
   "outputs": [],
   "source": [
    "for line in dat:\n",
    "    for w in line.split():\n",
    "        add_vocab(w)"
   ]
  },
  {
   "cell_type": "code",
   "execution_count": 7,
   "metadata": {
    "collapsed": true
   },
   "outputs": [],
   "source": [
    "thrhd = 60\n",
    "count = 0\n",
    "for k,v in vocab.items():\n",
    "    if v >= thrhd:\n",
    "        count += 1"
   ]
  },
  {
   "cell_type": "code",
   "execution_count": 8,
   "metadata": {},
   "outputs": [
    {
     "name": "stdout",
     "output_type": "stream",
     "text": [
      "Size of total vocab: 67977\n",
      "Size of vocab we will use: 2970\n"
     ]
    }
   ],
   "source": [
    "print(\"Size of total vocab:\", len(vocab))\n",
    "print(\"Size of vocab we will use:\", count)"
   ]
  },
  {
   "cell_type": "code",
   "execution_count": 9,
   "metadata": {
    "collapsed": true
   },
   "outputs": [],
   "source": [
    "import _pickle as cPickle\n",
    "def build_voc_mapping(voc_cnt, thrhd):\n",
    "  \"\"\"\n",
    "    enc_map: voc --encode--> id\n",
    "    dec_map: id --decode--> voc\n",
    "    \"\"\"\n",
    "\n",
    "  def add(enc_map, dec_map, voc):\n",
    "    enc_map[voc] = len(dec_map)\n",
    "    dec_map[len(dec_map)] = voc\n",
    "    return enc_map, dec_map\n",
    "\n",
    "  # add <ST>, <ED>, <RARE>\n",
    "  enc_map, dec_map = {}, {}\n",
    "  for voc in ['<BEG>', '<END>', '<UNK>', '<PAD>']:\n",
    "    enc_map, dec_map = add(enc_map, dec_map, voc)\n",
    "  for voc, cnt in voc_cnt.items():\n",
    "    if int(cnt) < thrhd:  # rare words => <RARE>\n",
    "      enc_map[voc] = enc_map['<UNK>']\n",
    "    else:\n",
    "      enc_map, dec_map = add(enc_map, dec_map, voc)\n",
    "  return enc_map, dec_map\n",
    "\n",
    "\n",
    "enc_map, dec_map = build_voc_mapping(vocab, thrhd)\n",
    "# save enc/decoding map to disk\n",
    "cPickle.dump(enc_map, open('./enc_map.pkl', 'wb'))\n",
    "cPickle.dump(dec_map, open('./dec_map.pkl', 'wb'))"
   ]
  },
  {
   "cell_type": "code",
   "execution_count": 10,
   "metadata": {
    "collapsed": true
   },
   "outputs": [],
   "source": [
    "def lines_to_ids(enc_map, dat):\n",
    "  lines_ids = []\n",
    "  for line in dat:   \n",
    "    icap = [enc_map[x] for x in line.split()]\n",
    "    icap.insert(0, enc_map['<BEG>'])\n",
    "    icap.append(enc_map['<END>'])\n",
    "    lines_ids.append(icap)\n",
    "  return lines_ids\n",
    "\n",
    "\n",
    "enc_map = cPickle.load(open('./enc_map.pkl', 'rb'))\n",
    "\n",
    "dat_proc = lines_to_ids(enc_map, dat)"
   ]
  },
  {
   "cell_type": "code",
   "execution_count": 11,
   "metadata": {
    "collapsed": true
   },
   "outputs": [],
   "source": [
    "dat_clean = []\n",
    "\n",
    "for i in range(len(dat_proc)):\n",
    "  if not (enc_map['<UNK>'] in dat_proc[i]):  # remove '<UNK>' sentence\n",
    "    dat_clean.append(dat_proc[i])"
   ]
  },
  {
   "cell_type": "code",
   "execution_count": 12,
   "metadata": {},
   "outputs": [
    {
     "name": "stdout",
     "output_type": "stream",
     "text": [
      "[[0, 1], [0, 1439, 2356, 2855, 2542, 335, 2766, 519, 550, 1297, 1126, 154, 1], [0, 2344, 1588, 1], [0, 1], [0, 1592, 1742, 836, 1566, 1517, 2698, 2261, 612, 2767, 1], [0, 1], [0, 1543, 1], [0, 335, 2698, 1448, 1], [0, 1], [0, 1690, 2855, 2315, 1990, 1311, 1087, 1671, 1]]\n"
     ]
    }
   ],
   "source": [
    "print(dat_clean[:10])"
   ]
  },
  {
   "cell_type": "code",
   "execution_count": 13,
   "metadata": {},
   "outputs": [
    {
     "name": "stdout",
     "output_type": "stream",
     "text": [
      "data usage 63.27247879116062\n"
     ]
    }
   ],
   "source": [
    "print('data usage {}'.format(len(dat_clean)/len(dat)*100))"
   ]
  },
  {
   "cell_type": "code",
   "execution_count": 14,
   "metadata": {},
   "outputs": [
    {
     "name": "stdout",
     "output_type": "stream",
     "text": [
      "Total number of words: 1493077\n",
      "Number of times <UNK> is used: 0\n",
      "Percent of words that are <UNK>: 0.0%\n"
     ]
    }
   ],
   "source": [
    "word_count = 0\n",
    "unk_count = 0\n",
    "\n",
    "for line in dat_clean:\n",
    "    for w in line:\n",
    "        if w == enc_map[\"<UNK>\"]:\n",
    "            unk_count += 1\n",
    "        word_count += 1\n",
    "    \n",
    "unk_ratio = round(unk_count/word_count,4)*100\n",
    "    \n",
    "print(\"Total number of words:\", word_count)\n",
    "print(\"Number of times <UNK> is used:\", unk_count)\n",
    "print(\"Percent of words that are <UNK>: {}%\".format(round(unk_ratio,3)))"
   ]
  },
  {
   "cell_type": "code",
   "execution_count": 15,
   "metadata": {
    "collapsed": true
   },
   "outputs": [],
   "source": [
    "xs_corpus = []\n",
    "ys_corpus = []\n",
    "\n",
    "for i in range(len(dat_clean)-1):\n",
    "    xs = dat_clean[i]\n",
    "    ys = dat_clean[i+1]\n",
    "    if len(xs) > 20 or len(xs) < 3 or len(ys) > 20 or len(ys) < 3:\n",
    "        continue\n",
    "    xs_corpus.append(xs)\n",
    "    ys_corpus.append(ys)"
   ]
  },
  {
   "cell_type": "code",
   "execution_count": 16,
   "metadata": {
    "scrolled": true
   },
   "outputs": [
    {
     "name": "stdout",
     "output_type": "stream",
     "text": [
      "<BEG> you're asking me out that's so cute what's your name again <END>\n",
      "<BEG> forget it <END>\n",
      "\n",
      "\n",
      "<BEG> why <END>\n",
      "<BEG> that's a shame <END>\n",
      "\n",
      "\n",
      "<BEG> that's because it's such a nice one <END>\n",
      "<BEG> forget french <END>\n",
      "\n",
      "\n",
      "<BEG> there <END>\n",
      "<BEG> where <END>\n",
      "\n",
      "\n",
      "<BEG> you have my word as a gentleman <END>\n",
      "<BEG> you're sweet <END>\n",
      "\n",
      "\n",
      "<BEG> sure have <END>\n",
      "<BEG> i really really really wanna go but i can't not unless my sister goes <END>\n",
      "\n",
      "\n",
      "<BEG> i really really really wanna go but i can't not unless my sister goes <END>\n",
      "<BEG> i'm workin' on it but she doesn't seem to be goin' for him <END>\n",
      "\n",
      "\n",
      "<BEG> she's not a <END>\n",
      "<BEG> so that's the kind of guy she likes pretty ones <END>\n",
      "\n",
      "\n",
      "<BEG> hi <END>\n",
      "<BEG> looks like things worked out tonight huh <END>\n",
      "\n",
      "\n",
      "<BEG> well no <END>\n",
      "<BEG> then that's all you had to say <END>\n",
      "\n",
      "\n"
     ]
    }
   ],
   "source": [
    "enc_map = cPickle.load(open('./enc_map.pkl', 'rb'))  # token => id\n",
    "dec_map = cPickle.load(open('./dec_map.pkl', 'rb'))  # id => token\n",
    "vocab_size = len(dec_map)\n",
    "\n",
    "for i in range(10):\n",
    "    print(' '.join([dec_map[idx] for idx in xs_corpus[i]]))\n",
    "    print(' '.join([dec_map[idx] for idx in ys_corpus[i]]))\n",
    "    print('\\n')"
   ]
  },
  {
   "cell_type": "code",
   "execution_count": 17,
   "metadata": {},
   "outputs": [
    {
     "name": "stdout",
     "output_type": "stream",
     "text": [
      "20 20\n"
     ]
    }
   ],
   "source": [
    "xs_max_len = 0\n",
    "ys_max_len = 0\n",
    "\n",
    "for i in range(len(xs_corpus)):  # caculate max length\n",
    "  xs_max_len = max(xs_max_len, len(xs_corpus[i]))\n",
    "  ys_max_len = max(ys_max_len, len(ys_corpus[i]))\n",
    "\n",
    "print(xs_max_len, ys_max_len)"
   ]
  },
  {
   "cell_type": "code",
   "execution_count": 23,
   "metadata": {
    "collapsed": true
   },
   "outputs": [],
   "source": [
    "class BatchGenerator:\n",
    "\n",
    "  def __init__(self, xs_corpus, ys_corpus, xs_pad, ys_pad, xs_max_len, ys_max_len, batch_size):\n",
    "    n = len(xs_corpus)\n",
    "    batch_num = len(xs_corpus) // batch_size\n",
    "    n = batch_num * batch_size\n",
    "\n",
    "    self.xs = [np.zeros(n, dtype=np.int32)\n",
    "               for _ in range(xs_max_len)]  # encoder inputs\n",
    "    self.ys = [np.zeros(n, dtype=np.int32)\n",
    "               for _ in range(ys_max_len)]  # decoder inputs\n",
    "    self.gs = [np.zeros(n, dtype=np.int32)\n",
    "               for _ in range(ys_max_len)]  # decoder outputs\n",
    "    self.ws = [np.zeros(n, dtype=np.float32)\n",
    "               for _ in range(ys_max_len)]  # decoder weight for loss caculation\n",
    "\n",
    "    self.xs_max_len = xs_max_len\n",
    "    self.ys_max_len = ys_max_len\n",
    "    self.batch_size = batch_size\n",
    "\n",
    "    for b in range(batch_num):\n",
    "        for i in range(b * batch_size, (b + 1) * batch_size):\n",
    "            for j in range(len(xs_corpus[i]) - 2):\n",
    "                self.xs[j][i] = xs_corpus[i][j + 1]\n",
    "            for j in range(j + 1, xs_max_len):\n",
    "                self.xs[j][i] = xs_pad\n",
    "\n",
    "            for j in range(len(ys_corpus[i]) - 1):\n",
    "                self.ys[j][i] = ys_corpus[i][j]\n",
    "                self.gs[j][i] = ys_corpus[i][j + 1]\n",
    "                self.ws[j][i] = 1.0\n",
    "            for j in range(j + 1, ys_max_len):  # don't forget padding and let loss weight zero\n",
    "                self.ys[j][i] = ys_pad\n",
    "                self.gs[j][i] = ys_pad\n",
    "                self.ws[j][i] = 0.0\n",
    "\n",
    "  def get(self, batch_id):\n",
    "    x = [\n",
    "        self.xs[i][batch_id * self.batch_size:(batch_id + 1) * self.batch_size]\n",
    "        for i in range(self.xs_max_len)\n",
    "    ]\n",
    "    y = [\n",
    "        self.ys[i][batch_id * self.batch_size:(batch_id + 1) * self.batch_size]\n",
    "        for i in range(self.ys_max_len)\n",
    "    ]\n",
    "    g = [\n",
    "        self.gs[i][batch_id * self.batch_size:(batch_id + 1) * self.batch_size]\n",
    "        for i in range(self.ys_max_len)\n",
    "    ]\n",
    "    w = [\n",
    "        self.ws[i][batch_id * self.batch_size:(batch_id + 1) * self.batch_size]\n",
    "        for i in range(self.ys_max_len)\n",
    "    ]\n",
    "\n",
    "    return x, y, g, w\n",
    "\n",
    "\n",
    "batch = BatchGenerator(xs_corpus, ys_corpus, enc_map['<PAD>'],\n",
    "                       enc_map['<PAD>'], xs_max_len, ys_max_len, 4)"
   ]
  },
  {
   "cell_type": "code",
   "execution_count": 19,
   "metadata": {},
   "outputs": [
    {
     "name": "stdout",
     "output_type": "stream",
     "text": [
      "hi <PAD> <PAD> <PAD> <PAD> <PAD> <PAD> <PAD> <PAD> <PAD> <PAD> <PAD> <PAD> <PAD> <PAD> <PAD> <PAD> <PAD> <PAD> <PAD>\n",
      "<BEG> looks like things worked out tonight huh <PAD> <PAD> <PAD> <PAD> <PAD> <PAD> <PAD> <PAD> <PAD> <PAD> <PAD> <PAD>\n",
      "looks like things worked out tonight huh <END> <PAD> <PAD> <PAD> <PAD> <PAD> <PAD> <PAD> <PAD> <PAD> <PAD> <PAD> <PAD>\n",
      "\n",
      "well no <PAD> <PAD> <PAD> <PAD> <PAD> <PAD> <PAD> <PAD> <PAD> <PAD> <PAD> <PAD> <PAD> <PAD> <PAD> <PAD> <PAD> <PAD>\n",
      "<BEG> then that's all you had to say <PAD> <PAD> <PAD> <PAD> <PAD> <PAD> <PAD> <PAD> <PAD> <PAD> <PAD> <PAD>\n",
      "then that's all you had to say <END> <PAD> <PAD> <PAD> <PAD> <PAD> <PAD> <PAD> <PAD> <PAD> <PAD> <PAD> <PAD>\n",
      "\n",
      "then that's all you had to say <PAD> <PAD> <PAD> <PAD> <PAD> <PAD> <PAD> <PAD> <PAD> <PAD> <PAD> <PAD> <PAD>\n",
      "<BEG> but <PAD> <PAD> <PAD> <PAD> <PAD> <PAD> <PAD> <PAD> <PAD> <PAD> <PAD> <PAD> <PAD> <PAD> <PAD> <PAD> <PAD> <PAD>\n",
      "but <END> <PAD> <PAD> <PAD> <PAD> <PAD> <PAD> <PAD> <PAD> <PAD> <PAD> <PAD> <PAD> <PAD> <PAD> <PAD> <PAD> <PAD> <PAD>\n",
      "\n",
      "do you listen to this crap <PAD> <PAD> <PAD> <PAD> <PAD> <PAD> <PAD> <PAD> <PAD> <PAD> <PAD> <PAD> <PAD> <PAD>\n",
      "<BEG> what crap <PAD> <PAD> <PAD> <PAD> <PAD> <PAD> <PAD> <PAD> <PAD> <PAD> <PAD> <PAD> <PAD> <PAD> <PAD> <PAD> <PAD>\n",
      "what crap <END> <PAD> <PAD> <PAD> <PAD> <PAD> <PAD> <PAD> <PAD> <PAD> <PAD> <PAD> <PAD> <PAD> <PAD> <PAD> <PAD> <PAD>\n",
      "\n"
     ]
    }
   ],
   "source": [
    "x, y, g, w = batch.get(2)\n",
    "for i in range(4):\n",
    "  print(' '.join([dec_map[x[j][i]] for j in range(xs_max_len)]))\n",
    "  print(' '.join([dec_map[y[j][i]] for j in range(ys_max_len)]))\n",
    "  print(' '.join([dec_map[g[j][i]] for j in range(ys_max_len)]))\n",
    "  print('')"
   ]
  },
  {
   "cell_type": "code",
   "execution_count": 18,
   "metadata": {
    "collapsed": true
   },
   "outputs": [],
   "source": [
    "import tensorflow as tf"
   ]
  },
  {
   "cell_type": "code",
   "execution_count": 19,
   "metadata": {
    "collapsed": true
   },
   "outputs": [],
   "source": [
    "class MachineTranslationSeq2Seq:\n",
    "\n",
    "  def __init__(self, xs_max_len, ys_max_len, xs_size, ys_size):\n",
    "    self.xs_max_len = xs_max_len\n",
    "    self.ys_max_len = ys_max_len\n",
    "\n",
    "    with tf.variable_scope('seq2seq_intput/output'):\n",
    "      self.enc_inputs = [\n",
    "          tf.placeholder(tf.int64, [None]) for i in range(xs_max_len)\n",
    "      ]  # time mojor feed\n",
    "      self.dec_inputs = [\n",
    "          tf.placeholder(tf.int64, [None]) for i in range(ys_max_len)\n",
    "      ]\n",
    "      self.groundtruths = [\n",
    "          tf.placeholder(tf.int64, [None]) for i in range(ys_max_len)\n",
    "      ]\n",
    "      self.weights = [\n",
    "          tf.placeholder(tf.float32, [None]) for i in range(ys_max_len)\n",
    "      ]\n",
    "\n",
    "    with tf.variable_scope('seq2seq_rnn'):  # training by teacher forcing\n",
    "      self.out_cell = tf.contrib.rnn.LSTMCell(512)\n",
    "      self.outputs, _ = tf.contrib.legacy_seq2seq.embedding_attention_seq2seq(\n",
    "          self.enc_inputs, self.dec_inputs, self.out_cell, xs_size, ys_size,\n",
    "          300)\n",
    "    with tf.variable_scope(\n",
    "        'seq2seq_rnn', reuse=True):  # predict by feeding previous\n",
    "      self.pred_cell = tf.contrib.rnn.LSTMCell(\n",
    "          512, reuse=True)  # reuse cell for train and test\n",
    "      self.predictions, _ = tf.contrib.legacy_seq2seq.embedding_attention_seq2seq(\n",
    "          self.enc_inputs,\n",
    "          self.dec_inputs,\n",
    "          self.pred_cell,\n",
    "          xs_size,\n",
    "          ys_size,\n",
    "          300,\n",
    "          feed_previous=True)\n",
    "\n",
    "    with tf.variable_scope('loss'):\n",
    "      # caculate weighted loss\n",
    "      self.loss = tf.reduce_mean(\n",
    "          tf.contrib.legacy_seq2seq.sequence_loss_by_example(\n",
    "              self.outputs, self.groundtruths, self.weights))\n",
    "      self.optimizer = tf.train.AdamOptimizer(0.002).minimize(self.loss)\n",
    "\n",
    "    self.sess = tf.Session()\n",
    "    self.saver = tf.train.Saver()\n",
    "    self.sess.run(tf.global_variables_initializer())\n",
    "\n",
    "  def train(self, x, y, g, w):\n",
    "    fd = {}\n",
    "    for i in range(self.xs_max_len):\n",
    "      fd[self.enc_inputs[i]] = x[i]  # show how to feed a list\n",
    "\n",
    "    for i in range(self.ys_max_len):\n",
    "      fd[self.dec_inputs[i]] = y[i]\n",
    "      fd[self.groundtruths[i]] = g[i]\n",
    "      fd[self.weights[i]] = w[i]\n",
    "\n",
    "    loss, _ = self.sess.run([self.loss, self.optimizer], fd)\n",
    "\n",
    "    return loss\n",
    "\n",
    "  def output(self, x, y):\n",
    "    fd = {}\n",
    "    for i in range(self.xs_max_len):\n",
    "      fd[self.enc_inputs[i]] = x[i]\n",
    "\n",
    "    for i in range(self.ys_max_len):\n",
    "      fd[self.dec_inputs[i]] = y[i]\n",
    "\n",
    "    out = self.sess.run(self.outputs, fd)\n",
    "\n",
    "    return out\n",
    "\n",
    "  def predict(self, x, ys_beg):\n",
    "    fd = {}\n",
    "    for i in range(self.xs_max_len):\n",
    "      fd[self.enc_inputs[i]] = x[i]\n",
    "\n",
    "    for i in range(self.ys_max_len):  \n",
    "    # when feed previous, the fist token should be '<BEG>', and others are useless\n",
    "      if i == 0:\n",
    "        fd[self.dec_inputs[i]] = np.ones(y[i].shape, dtype=np.int32) * ys_beg\n",
    "      else:\n",
    "        fd[self.dec_inputs[i]] = np.zeros(y[i].shape, dtype=np.int32)\n",
    "\n",
    "    pd = self.sess.run(self.predictions, fd)\n",
    "\n",
    "    return pd\n",
    "\n",
    "  def save(self, e):\n",
    "    self.saver.save(self.sess, 'model/seq2seq/seq2seq_%d.ckpt' % (e + 1))\n",
    "\n",
    "  def restore(self, e):\n",
    "    self.saver.restore(self.sess, 'model/seq2seq/seq2seq_%d.ckpt' % (e))"
   ]
  },
  {
   "cell_type": "code",
   "execution_count": 20,
   "metadata": {
    "collapsed": true
   },
   "outputs": [],
   "source": [
    "tf.reset_default_graph()\n",
    "model = MachineTranslationSeq2Seq(xs_max_len, ys_max_len,\n",
    "                                  len(enc_map), len(dec_map))"
   ]
  },
  {
   "cell_type": "code",
   "execution_count": 24,
   "metadata": {
    "collapsed": true
   },
   "outputs": [],
   "source": [
    "EPOCHS = 40\n",
    "BATCH_SIZE = 200\n",
    "batch_num = len(xs_corpus) // BATCH_SIZE\n",
    "\n",
    "batch = BatchGenerator(xs_corpus, ys_corpus, enc_map['<PAD>'],\n",
    "                       enc_map['<PAD>'], xs_max_len, ys_max_len, BATCH_SIZE)"
   ]
  },
  {
   "cell_type": "code",
   "execution_count": 24,
   "metadata": {
    "scrolled": true
   },
   "outputs": [
    {
     "name": "stdout",
     "output_type": "stream",
     "text": [
      "0\n",
      "100\n",
      "200\n",
      "300\n",
      "400\n",
      "EPOCH:0, LOSS:4.46940435315961\n",
      "0\n",
      "100\n",
      "200\n",
      "300\n",
      "400\n",
      "EPOCH:1, LOSS:3.913471751123945\n",
      "0\n",
      "100\n",
      "200\n",
      "300\n",
      "400\n",
      "EPOCH:2, LOSS:3.6703528951261646\n",
      "0\n",
      "100\n",
      "200\n",
      "300\n",
      "400\n",
      "EPOCH:3, LOSS:3.4097770196255124\n",
      "0\n",
      "100\n",
      "200\n",
      "300\n",
      "400\n",
      "EPOCH:4, LOSS:3.1376057562426984\n",
      "0\n",
      "100\n",
      "200\n",
      "300\n",
      "400\n",
      "EPOCH:5, LOSS:2.889105284882483\n",
      "0\n",
      "100\n",
      "200\n",
      "300\n",
      "400\n",
      "EPOCH:6, LOSS:2.6738659550096386\n",
      "0\n",
      "100\n",
      "200\n",
      "300\n",
      "400\n",
      "EPOCH:7, LOSS:2.4904117397615844\n",
      "0\n",
      "100\n",
      "200\n",
      "300\n",
      "400\n",
      "EPOCH:8, LOSS:2.3319309888599076\n",
      "0\n",
      "100\n",
      "200\n",
      "300\n",
      "400\n",
      "EPOCH:9, LOSS:2.193650005019714\n",
      "0\n",
      "100\n",
      "200\n",
      "300\n",
      "400\n",
      "EPOCH:10, LOSS:2.0740541729414574\n",
      "0\n",
      "100\n",
      "200\n",
      "300\n",
      "400\n",
      "EPOCH:11, LOSS:1.9781859063099478\n",
      "0\n",
      "100\n",
      "200\n",
      "300\n",
      "400\n",
      "EPOCH:12, LOSS:1.8896161081077896\n",
      "0\n",
      "100\n",
      "200\n",
      "300\n",
      "400\n",
      "EPOCH:13, LOSS:1.8120386260692205\n",
      "0\n",
      "100\n",
      "200\n",
      "300\n",
      "400\n",
      "EPOCH:14, LOSS:1.744707724201345\n",
      "0\n",
      "100\n",
      "200\n",
      "300\n",
      "400\n",
      "EPOCH:15, LOSS:1.6795706347884418\n",
      "0\n",
      "100\n",
      "200\n",
      "300\n",
      "400\n",
      "EPOCH:16, LOSS:1.622174625084779\n",
      "0\n",
      "100\n",
      "200\n",
      "300\n",
      "400\n",
      "EPOCH:17, LOSS:1.5713691129305651\n",
      "0\n",
      "100\n",
      "200\n",
      "300\n",
      "400\n",
      "EPOCH:18, LOSS:1.5339131901197345\n",
      "0\n",
      "100\n",
      "200\n",
      "300\n",
      "400\n",
      "EPOCH:19, LOSS:1.4918358928967859\n",
      "0\n",
      "100\n",
      "200\n",
      "300\n",
      "400\n",
      "EPOCH:20, LOSS:1.4542844881799732\n",
      "0\n",
      "100\n",
      "200\n",
      "300\n",
      "400\n",
      "EPOCH:21, LOSS:1.4226166270325118\n",
      "0\n",
      "100\n",
      "200\n",
      "300\n",
      "400\n",
      "EPOCH:22, LOSS:1.3955052474113268\n",
      "0\n",
      "100\n",
      "200\n",
      "300\n",
      "400\n",
      "EPOCH:23, LOSS:1.3704859821874404\n",
      "0\n",
      "100\n",
      "200\n",
      "300\n",
      "400\n",
      "EPOCH:24, LOSS:1.3310299891734791\n",
      "0\n",
      "100\n",
      "200\n",
      "300\n",
      "400\n",
      "EPOCH:25, LOSS:1.3066711301837013\n",
      "0\n",
      "100\n",
      "200\n",
      "300\n",
      "400\n",
      "EPOCH:26, LOSS:1.290589179530322\n",
      "0\n",
      "100\n",
      "200\n",
      "300\n",
      "400\n",
      "EPOCH:27, LOSS:1.2739230051775958\n",
      "0\n",
      "100\n",
      "200\n",
      "300\n",
      "400\n",
      "EPOCH:28, LOSS:1.2534350545328354\n",
      "0\n",
      "100\n",
      "200\n",
      "300\n",
      "400\n",
      "EPOCH:29, LOSS:1.2325254744179894\n",
      "0\n",
      "100\n",
      "200\n",
      "300\n",
      "400\n",
      "EPOCH:30, LOSS:1.2113693758984592\n",
      "0\n",
      "100\n",
      "200\n",
      "300\n",
      "400\n",
      "EPOCH:31, LOSS:1.2055845681194948\n",
      "0\n",
      "100\n",
      "200\n",
      "300\n",
      "400\n",
      "EPOCH:32, LOSS:1.1979476741262685\n",
      "0\n",
      "100\n",
      "200\n",
      "300\n",
      "400\n",
      "EPOCH:33, LOSS:1.180512216185855\n",
      "0\n",
      "100\n",
      "200\n",
      "300\n",
      "400\n",
      "EPOCH:34, LOSS:1.165515333692604\n",
      "0\n",
      "100\n",
      "200\n",
      "300\n",
      "400\n",
      "EPOCH:35, LOSS:1.157504661617992\n",
      "0\n",
      "100\n",
      "200\n",
      "300\n",
      "400\n",
      "EPOCH:36, LOSS:1.1447116440144656\n",
      "0\n",
      "100\n",
      "200\n",
      "300\n",
      "400\n",
      "EPOCH:37, LOSS:1.1286067803886448\n",
      "0\n",
      "100\n",
      "200\n",
      "300\n",
      "400\n",
      "EPOCH:38, LOSS:1.116253896990669\n",
      "0\n",
      "100\n",
      "200\n",
      "300\n",
      "400\n",
      "EPOCH:39, LOSS:1.0931843385518154\n"
     ]
    }
   ],
   "source": [
    "rec_loss = []\n",
    "for e in range(EPOCHS):\n",
    "  train_loss = 0\n",
    "\n",
    "  for b in range(batch_num):\n",
    "    if b % 100 ==0: print(b)\n",
    "    x, y, g, w = batch.get(b)\n",
    "    batch_loss = model.train(x, \n",
    "                             y, g, w)\n",
    "    train_loss += batch_loss\n",
    "\n",
    "  train_loss /= batch_num\n",
    "  print('EPOCH:{}, LOSS:{}'.format(e,train_loss))\n",
    "  rec_loss.append(train_loss)\n",
    "  model.save(e)\n",
    "\n",
    "np.save('./model/seq2seq/rec_loss.npy', rec_loss)"
   ]
  },
  {
   "cell_type": "code",
   "execution_count": 27,
   "metadata": {},
   "outputs": [
    {
     "data": {
      "image/png": "[encoded data removed]",
      "text/plain": [
       "<matplotlib.figure.Figure at 0x7f97fa801da0>"
      ]
     },
     "metadata": {},
     "output_type": "display_data"
    }
   ],
   "source": [
    "rec_loss = np.load('./model/seq2seq/rec_loss.npy')\n",
    "\n",
    "import matplotlib.pyplot as plt\n",
    "\n",
    "plt_loss = plt.plot([rec_loss[i] for i in range(len(rec_loss))])\n",
    "plt.legend(['Loss'])\n",
    "plt.tight_layout()\n",
    "plt.savefig('./LOSS.jpg', dpi=300)\n",
    "plt.show()"
   ]
  },
  {
   "cell_type": "code",
   "execution_count": 25,
   "metadata": {},
   "outputs": [
    {
     "name": "stdout",
     "output_type": "stream",
     "text": [
      "INFO:tensorflow:Restoring parameters from model/seq2seq/seq2seq_40.ckpt\n"
     ]
    }
   ],
   "source": [
    "model.restore(EPOCHS)"
   ]
  },
  {
   "cell_type": "code",
   "execution_count": 34,
   "metadata": {
    "collapsed": true
   },
   "outputs": [],
   "source": [
    "import nltk\n",
    "\n",
    "\n",
    "def cherry_pick(records, n, upper_bound=1.0):\n",
    "  bleus = []\n",
    "\n",
    "  for xs, ys_gr, ys_pd in records:\n",
    "    bleu = nltk.translate.bleu_score.sentence_bleu(\n",
    "        [ys_gr], ys_pd)  # caculate BLEU by nltk\n",
    "    bleus.append(bleu)\n",
    "\n",
    "  lst = [i for i in range(len(records)) if bleus[i] <= upper_bound]\n",
    "  lst = sorted(lst, key=lambda i: bleus[i], reverse=True)  # sort by BLEU score\n",
    "\n",
    "  return [records[lst[i]] for i in range(n)]"
   ]
  },
  {
   "cell_type": "code",
   "execution_count": 37,
   "metadata": {},
   "outputs": [
    {
     "name": "stdout",
     "output_type": "stream",
     "text": [
      "nothing okay some of us have been a little not concerned exactly but\n",
      "tell me\n",
      "tell me\n",
      "\n",
      "what do you suggest\n",
      "that you come with me\n",
      "that you come with me\n",
      "\n",
      "it was my father's kept it in his wallet he was murdered\n",
      "you sound so sure\n",
      "you sound so sure\n",
      "\n",
      "i guess i might as well get this done with\n",
      "what should i do\n",
      "what should i do\n",
      "\n",
      "is that the kind of girl you think i am what can i do to make you relax\n",
      "you could give me the gun\n",
      "you could give me the gun\n",
      "\n",
      "i'm her husband\n",
      "husband\n",
      "husband\n",
      "\n",
      "at least i'll have company when i die ain't that right jake\n",
      "for christ's sake john throw me the keys\n",
      "for christ's sake john throw me the keys\n",
      "\n",
      "now what's this\n",
      "give it to me\n",
      "give it to me\n",
      "\n",
      "okay fine\n",
      "fine fine what\n",
      "fine fine what\n",
      "\n",
      "oh this and that\n",
      "what i've been doing\n",
      "what i've been doing\n",
      "\n",
      "well it's a living but i'm excited about this\n",
      "what is it a still life\n",
      "what is it a still life\n",
      "\n",
      "can we have it by tonight\n",
      "well if it's absolutely necessary\n",
      "well if it's absolutely necessary\n",
      "\n"
     ]
    },
    {
     "name": "stderr",
     "output_type": "stream",
     "text": [
      "/home/chen/anaconda3/envs/tensorflow/lib/python3.5/site-packages/nltk/translate/bleu_score.py:490: UserWarning: \n",
      "Corpus/Sentence contains 0 counts of 3-gram overlaps.\n",
      "BLEU scores might be undesirable; use SmoothingFunction().\n",
      "  warnings.warn(_msg)\n",
      "/home/chen/anaconda3/envs/tensorflow/lib/python3.5/site-packages/nltk/translate/bleu_score.py:490: UserWarning: \n",
      "Corpus/Sentence contains 0 counts of 2-gram overlaps.\n",
      "BLEU scores might be undesirable; use SmoothingFunction().\n",
      "  warnings.warn(_msg)\n",
      "/home/chen/anaconda3/envs/tensorflow/lib/python3.5/site-packages/nltk/translate/bleu_score.py:490: UserWarning: \n",
      "Corpus/Sentence contains 0 counts of 4-gram overlaps.\n",
      "BLEU scores might be undesirable; use SmoothingFunction().\n",
      "  warnings.warn(_msg)\n"
     ]
    }
   ],
   "source": [
    "import random as rd\n",
    "\n",
    "records = []\n",
    "\n",
    "for i in range(10):\n",
    "  i = rd.randint(0, batch_num - 1)  # random pick one to translate\n",
    "\n",
    "  x, y, g, w = batch.get(i)\n",
    "  out = model.output(x, y)\n",
    "  pd = model.predict(x, enc_map['<BEG>'])\n",
    "\n",
    "  for j in range(10):\n",
    "    j = rd.randint(0, BATCH_SIZE - 1)\n",
    "\n",
    "    xs = [dec_map[x[i][j]] for i in range(xs_max_len)]\n",
    "    xs = xs[:xs.index('<PAD>')]\n",
    "    ys_gr = [dec_map[g[i][j]] for i in range(ys_max_len)]\n",
    "    if '<END>' in ys_gr:\n",
    "      ys_gr = ys_gr[:ys_gr.index('<END>')]\n",
    "    ys_pd = [dec_map[np.argmax(pd[i][j, :])] for i in range(ys_max_len)]\n",
    "    if '<END>' in ys_pd:\n",
    "      ys_pd = ys_pd[:ys_pd.index('<END>')]\n",
    "\n",
    "    records.append([xs, ys_gr, ys_pd])\n",
    "\n",
    "n = 12  # how many result we show\n",
    "rec_cherry = cherry_pick(records, n)\n",
    "\n",
    "for i in range(n):\n",
    "  for j in range(3):\n",
    "    print(' '.join(rec_cherry[i][j]))\n",
    "\n",
    "  print('')"
   ]
  },
  {
   "cell_type": "code",
   "execution_count": 38,
   "metadata": {
    "collapsed": true
   },
   "outputs": [],
   "source": [
    "%reset -sf"
   ]
  }
 ],
 "metadata": {
  "kernelspec": {
   "display_name": "Python 3",
   "language": "python",
   "name": "python3"
  },
  "language_info": {
   "codemirror_mode": {
    "name": "ipython",
    "version": 3
   },
   "file_extension": ".py",
   "mimetype": "text/x-python",
   "name": "python",
   "nbconvert_exporter": "python",
   "pygments_lexer": "ipython3",
   "version": "3.6.3"
  }
 },
 "nbformat": 4,
 "nbformat_minor": 2
}
